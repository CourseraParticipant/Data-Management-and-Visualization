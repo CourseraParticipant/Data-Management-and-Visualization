{
 "cells": [
  {
   "cell_type": "markdown",
   "metadata": {
    "collapsed": true
   },
   "source": [
    "# Data management & Univariate analysis\n",
    "\n",
    "In this assignment I will start data analysis for the research project described here:\n",
    "\n",
    "[Research proposal](https://github.com/CourseraParticipant/Data-Management-and-Visualization/blob/master/Research%20proposal-checkpoint.ipynb)\n",
    "\n",
    "More precisely, I shall conduct data management & univariate analysis. The goals will be done in few steps, and the code in Python will be thus splitted into blocks. Let me start by loading the data set NESARC."
   ]
  },
  {
   "cell_type": "code",
   "execution_count": 1,
   "metadata": {
    "collapsed": false
   },
   "outputs": [
    {
     "name": "stdout",
     "output_type": "stream",
     "text": [
      "Total number of rows in the data source\n",
      "43093\n",
      "Total number of variables present in the original data\n",
      "3008\n"
     ]
    }
   ],
   "source": [
    "# Step 1: Loading data which is saved in the working directory as csv file under name \"nesarc.csv\"\n",
    "%matplotlib inline  \n",
    "# specific for jupyter notebook: for graphs to be displayed inline\n",
    "# Importing libraries\n",
    "import pandas\n",
    "import numpy\n",
    "# load data set\n",
    "data = pandas.read_csv(\"nesarc.csv\",low_memory = False)\n",
    "# Checking how many observations the dataset contains\n",
    "print(\"Total number of rows in the data source\")\n",
    "print(len(data))\n",
    "#Checking how many variables/columns are traked with tha data\n",
    "print(\"Total number of variables present in the original data\")\n",
    "print(len(data.columns))"
   ]
  },
  {
   "cell_type": "markdown",
   "metadata": {},
   "source": [
    "The next step is extract a subset from  the original data, which includes only observations relevant for my research question. Namely, according to my research focus, I am interesting only into the following 4 variables: S1Q1F, S1Q8A, S1Q9B and S13Q1. Thus, I will subset the original data containing only those 4 variables / columns. Each of these 3 variables will be transformed in numeric and missing data will be set to NaN."
   ]
  },
  {
   "cell_type": "code",
   "execution_count": 2,
   "metadata": {
    "collapsed": false,
    "scrolled": true
   },
   "outputs": [],
   "source": [
    "# Step 2: Data management: Extracting only needed data & Conversion to numeric & Setting missing data to NaN\n",
    "# Firstly, since Python is case-sensitive I shall change the names of all columns to uppercase\n",
    "data.columns = map(str.upper,data.columns)\n",
    "# extracting only 4 necessary variables:\n",
    "sub0=data[['S1Q1F','S1Q8A', 'S1Q9B', 'S13Q1']]\n",
    "sub1 =sub0.copy()\n",
    "#set missing data to NaN\n",
    "sub1['S1Q9B']=sub1['S1Q9B'].replace(' ', numpy.nan)\n",
    "sub1['S1Q1F']=sub1['S1Q1F'].replace(9, numpy.nan)\n",
    "sub1['S13Q1']=sub1['S13Q1'].replace(99, numpy.nan)\n",
    "\n",
    "# conversion to numeric\n",
    "sub1['S1Q1F']=pandas.to_numeric(sub1['S1Q1F'])\n",
    "sub1['S1Q8A']=pandas.to_numeric(sub1['S1Q8A'])\n",
    "sub1['S1Q9B']=pandas.to_numeric(sub1['S1Q9B'])\n",
    "sub1['S13Q1']=pandas.to_numeric(sub1['S13Q1'])\n"
   ]
  },
  {
   "cell_type": "markdown",
   "metadata": {},
   "source": [
    "According to my research focus, I am interesting only into subjects born in the U.S.A. As the codebook states, the variable \"S1Q1F\" keeps track on the question whether a subject was /was not burn in the United States.\n",
    "Before extracting the subset of data, let us now look at the distribution of this variable."
   ]
  },
  {
   "cell_type": "code",
   "execution_count": 3,
   "metadata": {
    "collapsed": false
   },
   "outputs": [
    {
     "name": "stdout",
     "output_type": "stream",
     "text": [
      "Counts of U.S. born / non-born data subjects: 1 - born in the U.S., 2 - not born in the U.S., NaN - Unknown\n",
      "NaN       151\n",
      " 1.0    35622\n",
      " 2.0     7320\n",
      "Name: S1Q1F, dtype: int64\n",
      "Frequency of U.S. born / non-born data subject: 1 - born in the U.S.,2 - not born in the U.S., 9 - Unknown\n",
      "NaN     0.003504\n",
      " 1.0    0.826631\n",
      " 2.0    0.169865\n",
      "Name: S1Q1F, dtype: float64\n"
     ]
    }
   ],
   "source": [
    "# 1st univariate analysis: How many subjects in data are born in the U.S.?\n",
    "print(\"Counts of U.S. born / non-born data subjects: 1 - born in the U.S., 2 - not born in the U.S., NaN - Unknown\")\n",
    "c1 = sub1['S1Q1F'].value_counts(sort = False,dropna = False)\n",
    "print(c1)\n",
    "# Now the same counts but in terms of frequencies/percentages\n",
    "print(\"Frequency of U.S. born / non-born data subject: 1 - born in the U.S.,2 - not born in the U.S., 9 - Unknown\")\n",
    "p1 = sub1['S1Q1F'].value_counts(sort = False,dropna = False, normalize = True)\n",
    "print(p1)"
   ]
  },
  {
   "cell_type": "markdown",
   "metadata": {},
   "source": [
    " **Summary for the first frequency check -  U.S. born subjects** : Here we see that 35622 or ca. 82,7% of the study subjects were born in the U.S., 7320 subjects were not born in the U.S. whereas for 151 individuals the data does not contain information about birth of place.\n",
    " \n",
    " Since I aim to investigate only  U.S. born subjects, I may conclude that my subset will be still sufficiently large (as it contains 35622 or 82.7 % of the provided data).\n",
    " Let me know create my data set \"myData\" by selecting  only subjects born in the U.S."
   ]
  },
  {
   "cell_type": "code",
   "execution_count": 4,
   "metadata": {
    "collapsed": false
   },
   "outputs": [
    {
     "name": "stdout",
     "output_type": "stream",
     "text": [
      "Double-check for the subset of data: Total number of rows in my selected data\n",
      "35622\n"
     ]
    }
   ],
   "source": [
    "# Making my own data containing only subjects who were born in the U.S.\n",
    "sub2 =sub1[sub1['S1Q1F']==1]\n",
    "myData = sub2.copy()\n",
    "# Double-check : Hereby I want to check whether myData really (quantitatively) selected target group. I will check the \n",
    "# number of observations in myData and compare it with the above obtained counts. According to the counts,there should be\n",
    "# 35622 rows in the subset\n",
    "print ('Double-check for the subset of data: Total number of rows in my selected data')\n",
    "print (len(myData))"
   ]
  },
  {
   "cell_type": "markdown",
   "metadata": {},
   "source": [
    "As stated in my research proposal, I want to define a new variable named EMPL_TYPE which is a combination of the variables describing employments status and last job's type (S1Q8A and  S1Q9B, respectively). Indeed, EMPL_TYPE takes value 0 (Unemployed) if and only if S1Q8A = 2. Otherwise, EMPL_TYPE  takes identical value as the variable S1Q9B. Let me define this variable in the following block of the code.\n",
    "    "
   ]
  },
  {
   "cell_type": "code",
   "execution_count": 5,
   "metadata": {
    "collapsed": true
   },
   "outputs": [],
   "source": [
    "# defining new variable EMPL_TYPE. It will be defined in two steps. \n",
    "# 1st step of the definition: Define ne EMPL_TYPE as a copy of the variable S1Q9B\n",
    "myData['EMPL_TYPE']=myData['S1Q9B']\n",
    "#2nd step of definition: At the moment, EMPL_TYPE is just a copy of the S1Q9B. This is not right only in the cases when\n",
    "# S1Q8A = 2 (that is, the subject is unemployed). In this case, I want that my EMPL_TYPE takes value 0. Let me change \n",
    "# its value for this particulr case\n",
    "myData.loc[myData['S1Q8A']==2,'EMPL_TYPE']=0"
   ]
  },
  {
   "cell_type": "markdown",
   "metadata": {},
   "source": [
    "In the following code block I perform the last data management step. It is about the variable which counts number of times stayed in hospital overnight in last 12 months (variable S13Q1). Currently, it may take values between 0 and 98.Actually, I could define one new variable HOSP_MONTHLY which estimates how many times per month (on average) the person has visited hospital in last 12 months. Thus, its value is simply set to S13Q1/12. Thus, the new variable HOSP_MONTHLY may take values between 0 and 8"
   ]
  },
  {
   "cell_type": "code",
   "execution_count": 6,
   "metadata": {
    "collapsed": false
   },
   "outputs": [],
   "source": [
    "# define new variable HOSP_MONTHLY as number of average monthly hospital stays in past 12 months\n",
    "myData['HOSP_MONTHLY']= round(myData['S13Q1'] / 12)"
   ]
  },
  {
   "cell_type": "code",
   "execution_count": 7,
   "metadata": {
    "collapsed": false
   },
   "outputs": [
    {
     "name": "stdout",
     "output_type": "stream",
     "text": [
      "Counts for employed/unemployed subjects who were born in the U.S.: 1 - employed, 2 - unemployed\n",
      "1    25301\n",
      "2    10321\n",
      "Name: S1Q8A, dtype: int64\n",
      "Associated percentages for employed/unemployed subjects who were born in the U.S.: 1- employed, 2-unemployed\n",
      "1    0.710263\n",
      "2    0.289737\n",
      "Name: S1Q8A, dtype: float64\n"
     ]
    }
   ],
   "source": [
    "# Step 3 : Univariate analysis on the subset\n",
    "# The 1st variable - Employment status in the last 12 months, represented by 'S1Q8A' with codes: 1 - Yes, 2 - No\n",
    "# Counts of employed/unemployed subjects (in last 12 moths)\n",
    "print('Counts for employed/unemployed subjects who were born in the U.S.: 1 - employed, 2 - unemployed')\n",
    "c2=myData['S1Q8A'].value_counts(sort = False, dropna = False)\n",
    "print(c2)\n",
    "print('Associated percentages for employed/unemployed subjects who were born in the U.S.: 1- employed, 2-unemployed')\n",
    "p2=myData['S1Q8A'].value_counts(sort = False, dropna = False, normalize = True)\n",
    "print(p2)"
   ]
  },
  {
   "cell_type": "markdown",
   "metadata": {},
   "source": [
    " **Summary for the second frequency check - Employment status in the last 12 months of  U.S. born subjects ** : Here we see that 25301 out of 35622, or approximately 71% of the U.S. born subjects, have been employed in the last 12 months, whereas 10321 U.S. born subjects or ca. 29 % were unemployed in the same time period. \n",
    " \n",
    " Let me now look at the second variable of the interest: the occupation type, which is given by the variable 'EMPL_TYPE'. "
   ]
  },
  {
   "cell_type": "code",
   "execution_count": 8,
   "metadata": {
    "collapsed": false
   },
   "outputs": [
    {
     "name": "stdout",
     "output_type": "stream",
     "text": [
      "Counts for employment types of  subjects who were born in the U.S.:\n",
      "0.0     10321\n",
      "2.0      4836\n",
      "1.0      3866\n",
      "8.0      3587\n",
      "4.0      2605\n",
      "5.0      2504\n",
      "3.0      2303\n",
      "11.0     1808\n",
      "10.0      924\n",
      "12.0      764\n",
      "13.0      753\n",
      "7.0       461\n",
      "9.0       368\n",
      "14.0      278\n",
      "6.0       244\n",
      "Name: EMPL_TYPE, dtype: int64\n",
      "Associated percentages for employment categories of subjects who were born in the U.S.: \n",
      "0.0     0.289737\n",
      "2.0     0.135759\n",
      "1.0     0.108528\n",
      "8.0     0.100696\n",
      "4.0     0.073129\n",
      "5.0     0.070294\n",
      "3.0     0.064651\n",
      "11.0    0.050755\n",
      "10.0    0.025939\n",
      "12.0    0.021447\n",
      "13.0    0.021139\n",
      "7.0     0.012941\n",
      "9.0     0.010331\n",
      "14.0    0.007804\n",
      "6.0     0.006850\n",
      "Name: EMPL_TYPE, dtype: float64\n",
      "Codes for the occupation type:\n",
      "0 - Unemployed in the last 12 months\n",
      "1 - Executive, Administrative, and Managerial\n",
      "2 - Professional Speciality\n",
      "3 - Technical and Related Support\n",
      "4 - Sales\n",
      "5 - Administrative Support, including Clerical\n",
      " 6 - Private Household\n",
      "7 - Protective Services\n",
      "8 - Other Services\n",
      " 9 - Farming, Forestry and Fishing\n",
      "10 - Precision Production, Craft and Repair\n",
      "11 - Operators, Fabricators and Laborers\n",
      "12 - Transportation and Material Moving\n",
      "13 - Handlers, Equipment Cleaners and Laborers\n",
      "14 - Military\n",
      "BL - NA, never worked for pay or in family business or farm\n"
     ]
    }
   ],
   "source": [
    "# The second variable - Employment type represented by 'EMPL_TYPE' \n",
    "# Counts of occupation types\n",
    "print('Counts for employment types of  subjects who were born in the U.S.:')\n",
    "c3=myData['EMPL_TYPE'].value_counts(sort = True, dropna = False)\n",
    "print(c3)\n",
    "# I set sort = TRUE as codes themselves have no meaning as numbers. And by sort = true, I can see which\n",
    "# occupation type occurs the most frequent, which the least  etc.\n",
    "print('Associated percentages for employment categories of subjects who were born in the U.S.: ')\n",
    "#frequencies of the occupations\n",
    "p3=myData['EMPL_TYPE'].value_counts(sort = True, dropna = False, normalize = True)\n",
    "print(p3)\n",
    "print ('Codes for the occupation type:')\n",
    "print ('0 - Unemployed in the last 12 months')\n",
    "print ('1 - Executive, Administrative, and Managerial')\n",
    "print('2 - Professional Speciality')\n",
    "print('3 - Technical and Related Support')\n",
    "print('4 - Sales')\n",
    "print('5 - Administrative Support, including Clerical')\n",
    "print(' 6 - Private Household')\n",
    "print ('7 - Protective Services')\n",
    "print ('8 - Other Services')\n",
    "print(' 9 - Farming, Forestry and Fishing')\n",
    "print('10 - Precision Production, Craft and Repair')\n",
    "print('11 - Operators, Fabricators and Laborers')\n",
    "print('12 - Transportation and Material Moving')\n",
    "print('13 - Handlers, Equipment Cleaners and Laborers')\n",
    "print('14 - Military')\n",
    "print ('BL - NA, never worked for pay or in family business or farm')"
   ]
  },
  {
   "cell_type": "markdown",
   "metadata": {},
   "source": [
    " **Summary for the third frequency check - Employment type of  U.S. born subjects ** : Firstly, note that the previous frequency check and the current one agree on the number of uneployed which is 10321 subjects, and it is the biggest category of the EMPl_TYPE variable. Here we see the most of employed subjects belong to category \"professional speciality\" (4836 persons or 13,6% of U.S. born subjects), followed by \" Executive, Administrative, and Managerial\" (10,9% or 3866 subjects) and then \"Other services\" (10.1% or 3587 people). The least popular occupation type among subjects, according to the data, is \"Privite haousehold\" with only 244 subjects. The second smallest category is \"Military\" group with 278 persons.\n",
    " \n",
    " Let me now look at the last variable of the interest: the average number of monthly hospital stays (in past 12 months), which is given by the variable 'HOSP_MONTHLY'. "
   ]
  },
  {
   "cell_type": "code",
   "execution_count": 9,
   "metadata": {
    "collapsed": false,
    "scrolled": true
   },
   "outputs": [
    {
     "name": "stdout",
     "output_type": "stream",
     "text": [
      "Counts of avg. monthly hospital stays overnight (last 12 months)\n",
      " 0.0    34695\n",
      "NaN       873\n",
      " 1.0       44\n",
      " 2.0        7\n",
      " 8.0        1\n",
      " 5.0        1\n",
      " 3.0        1\n",
      "Name: HOSP_MONTHLY, dtype: int64\n",
      "Associated percentages for avf. monthly hospital stays overnight (last 12 months)\n",
      " 0.0    0.973977\n",
      "NaN     0.024507\n",
      " 1.0    0.001235\n",
      " 2.0    0.000197\n",
      " 8.0    0.000028\n",
      " 5.0    0.000028\n",
      " 3.0    0.000028\n",
      "Name: HOSP_MONTHLY, dtype: float64\n"
     ]
    }
   ],
   "source": [
    "# The third variable -  Number of average monthly times stayed in hospital in last 12 months \n",
    "# (excluding delivery of healty liveborn infant)\n",
    "# Variable name: 'HOSP_MONTHLY'\n",
    "myData['HOSP_MONTHLY']=pandas.to_numeric(myData['HOSP_MONTHLY'])\n",
    "# Counts of overnight avg. monthly hospital stays\n",
    "print('Counts of avg. monthly hospital stays overnight (last 12 months)')\n",
    "c4=myData['HOSP_MONTHLY'].value_counts(sort = True, dropna = False)\n",
    "print(c4)\n",
    "# associated frequencies\n",
    "print('Associated percentages for avf. monthly hospital stays overnight (last 12 months)')\n",
    "p4=myData['HOSP_MONTHLY'].value_counts(sort = True, dropna = False, normalize = True)\n",
    "print(p4)"
   ]
  },
  {
   "cell_type": "markdown",
   "metadata": {},
   "source": [
    "** Summary for the fourth frequency check - Overnight hospital stays (in last 12 months) **:  The last univariate analysis says that the most of subjects has average number of mothly hospital stay equal to zero within last 12 moths . More precisely,  34695 or almost 97.4% of all U.S. born citizens in the data set did not stay in the hospital. Less then 0,1% of subjects has stayed on avereage  once per month in the hospital.\n",
    "Missing data: There were 873 subjects or almost 2.5% of all U.S. born subjects on which data is missing for this specific question."
   ]
  },
  {
   "cell_type": "markdown",
   "metadata": {},
   "source": [
    "# Summary\n",
    "\n",
    "By investigating only U.S. born subjects, I approximately exclude 17.3% of all data provided in NESARC and analyze data on 35622 subjects.\n",
    "71.9% of those 35622 subjects,  are /were employed within last 12 months. The most popular job among employed subjests,  seems to be categorized as \"professional speciality\" and the least popular category is \"private household\". Regarding the overnight stay in hospital,the big majority of subjects (34695 or 97.4%) did not stay in hospital (or stayed maximally 5 timies in total) in the last 12 months. "
   ]
  }
 ],
 "metadata": {
  "kernelspec": {
   "display_name": "Python 3",
   "language": "python",
   "name": "python3"
  },
  "language_info": {
   "codemirror_mode": {
    "name": "ipython",
    "version": 3
   },
   "file_extension": ".py",
   "mimetype": "text/x-python",
   "name": "python",
   "nbconvert_exporter": "python",
   "pygments_lexer": "ipython3",
   "version": "3.5.1"
  }
 },
 "nbformat": 4,
 "nbformat_minor": 0
}
