{
 "cells": [
  {
   "cell_type": "markdown",
   "metadata": {
    "collapsed": true
   },
   "source": [
    "# Univariate analysis\n",
    "\n",
    "In this assignment I will start data analysis for the research project described here:\n",
    "\n",
    "[Research proposal](https://github.com/CourseraParticipant/Data-Management-and-Visualization/blob/master/Research%20proposal-checkpoint.ipynb)\n",
    "\n",
    "The univariate analysis will be done in few steps, and the code in Python will be thus splitted into blocks. Let me start by loading the data set NESARC."
   ]
  },
  {
   "cell_type": "code",
   "execution_count": 1,
   "metadata": {
    "collapsed": false
   },
   "outputs": [
    {
     "name": "stdout",
     "output_type": "stream",
     "text": [
      "Total number of rows in the data source\n",
      "43093\n",
      "Total number of variables present in the original data\n",
      "3008\n"
     ]
    }
   ],
   "source": [
    "# Step 1: Loading data which is saved in the working directory as csv file under name \"nesarc.csv\"\n",
    "%matplotlib inline  \n",
    "# specific for jupyter notebook: for graphs to be displayed inline\n",
    "# Importing libraries\n",
    "import pandas\n",
    "import numpy\n",
    "# load data set\n",
    "data = pandas.read_csv(\"nesarc.csv\",low_memory = False)\n",
    "# Checking how many observations the dataset contains\n",
    "print(\"Total number of rows in the data source\")\n",
    "print(len(data))\n",
    "#Checking how many variables/columns are traked with tha data\n",
    "print(\"Total number of variables present in the original data\")\n",
    "print(len(data.columns))"
   ]
  },
  {
   "cell_type": "markdown",
   "metadata": {},
   "source": [
    "The next step is extract a subset from  the original data, which includes only observations relevant for my research question. Namely, according to my research focus, I am interesting only into subjects born in the U.S.A. As the codebook states, the variable \"S1Q1F\" keeps track on the question whether a subject was /was not burn in the United States.\n",
    "Before extracting the subset of data, let us now look at the distribution of this variable."
   ]
  },
  {
   "cell_type": "code",
   "execution_count": 2,
   "metadata": {
    "collapsed": false,
    "scrolled": true
   },
   "outputs": [
    {
     "name": "stdout",
     "output_type": "stream",
     "text": [
      "Counts of U.S. born / non-born data subjects: 1 - born in the U.S., 2 - not born in the U.S., 9 - Unknown\n",
      "1    35622\n",
      "2     7320\n",
      "9      151\n",
      "Name: S1Q1F, dtype: int64\n",
      "Frequency of U.S. born / non-born data subject: 1 - born in the U.S.,2 - not born in the U.S., 9 - Unknown\n",
      "1    0.826631\n",
      "2    0.169865\n",
      "9    0.003504\n",
      "Name: S1Q1F, dtype: float64\n"
     ]
    }
   ],
   "source": [
    "# Step 2: Extracting only needed data\n",
    "# Firstly, since Python is case-sensitive I shall change the names of all columns to uppercase\n",
    "data.columns = map(str.upper,data.columns)\n",
    "# 1st univariate analysis: How many subjects in data are born in the U.S.?\n",
    "print(\"Counts of U.S. born / non-born data subjects: 1 - born in the U.S., 2 - not born in the U.S., 9 - Unknown\")\n",
    "c1 = data['S1Q1F'].value_counts(sort = False,dropna = False)\n",
    "print(c1)\n",
    "# Now the same counts but in terms of frequencies/percentages\n",
    "print(\"Frequency of U.S. born / non-born data subject: 1 - born in the U.S.,2 - not born in the U.S., 9 - Unknown\")\n",
    "p1 = data['S1Q1F'].value_counts(sort = False,dropna = False, normalize = True)\n",
    "print(p1)"
   ]
  },
  {
   "cell_type": "markdown",
   "metadata": {},
   "source": [
    " **Summary for the first frequency check -  U.S. born subjects** : Here we see that 35622 or ca. 82,7% of the study subjects were born in the U.S., 7320 subjects were not born in the U.S. whereas for 151 individuals the data does not contain information about birth of place.\n",
    " \n",
    " Since I aim to investigate only  U.S. born subjects, I may conclude that my subset will be still sufficiently large (as it contains 35622 or 82.7 % of the provided data).\n",
    " Let me know create my data set \"myData\" by selecting  only subjects born in the U.S."
   ]
  },
  {
   "cell_type": "code",
   "execution_count": 4,
   "metadata": {
    "collapsed": false
   },
   "outputs": [
    {
     "name": "stdout",
     "output_type": "stream",
     "text": [
      "Double-check for the subset of data: Total number of rows in my selected data\n",
      "35622\n"
     ]
    }
   ],
   "source": [
    "# Making my own data containing only subjects who were born in the U.S.\n",
    "sub1 = data[data['S1Q1F']==1]\n",
    "myData = sub1.copy()\n",
    "# Double-check : Hereby I want to check whether myData really (quantitatively) selected target group. I will check the \n",
    "# number of observations in myData and compare it with the above obtained counts. According to the counts,there should be\n",
    "# 35622 rows in the subset\n",
    "print ('Double-check for the subset of data: Total number of rows in my selected data')\n",
    "print (len(myData))"
   ]
  },
  {
   "cell_type": "markdown",
   "metadata": {},
   "source": [
    " So, the dataset myData now contains only rows I am interested in. As my research question is about the potential relationship between employment status, occupation type and hospital stays, these three variables will be analyzed.\n",
    " \n",
    " Let me start with the employment status in the last 12 months, which is represented by variable ' S1Q8A'."
   ]
  },
  {
   "cell_type": "code",
   "execution_count": 7,
   "metadata": {
    "collapsed": false
   },
   "outputs": [
    {
     "name": "stdout",
     "output_type": "stream",
     "text": [
      "Counts for employed/unemployed subjects who were born in the U.S.: 1 - employed, 2 - unemployed\n",
      "1    25301\n",
      "2    10321\n",
      "Name: S1Q8A, dtype: int64\n",
      "Associated percentages for employed/unemployed subjects who were born in the U.S.: 1- employed, 2-unemployed\n",
      "1    0.710263\n",
      "2    0.289737\n",
      "Name: S1Q8A, dtype: float64\n"
     ]
    }
   ],
   "source": [
    "# Step 3 : Univariate analysis on the subset\n",
    "# The 1st variable - Employment status in the last 12 months, represented by 'S1Q8A' with codes: 1 - Yes, 2 - No\n",
    "# Counts of employed/unemployed subjects (in last 12 moths)\n",
    "print('Counts for employed/unemployed subjects who were born in the U.S.: 1 - employed, 2 - unemployed')\n",
    "c2=myData['S1Q8A'].value_counts(sort = False, dropna = False)\n",
    "print(c2)\n",
    "print('Associated percentages for employed/unemployed subjects who were born in the U.S.: 1- employed, 2-unemployed')\n",
    "p2=myData['S1Q8A'].value_counts(sort = False, dropna = False, normalize = True)\n",
    "print(p2)"
   ]
  },
  {
   "cell_type": "markdown",
   "metadata": {},
   "source": [
    " **Summary for the second frequency check - Employment status in the last 12 months of  U.S. born subjects ** : Here we see that 25301 out of 35622, or approximately 71% of the U.S. born subjects, have been employed in the last 12 months, whereas 10321 U.S. born subjects or ca. 29 % were unemployed in the same time period. \n",
    " \n",
    " Let me now look at the second variable of the interest: the occupation type, which is given by the variable 'S1Q9B'. "
   ]
  },
  {
   "cell_type": "code",
   "execution_count": 9,
   "metadata": {
    "collapsed": false
   },
   "outputs": [
    {
     "name": "stdout",
     "output_type": "stream",
     "text": [
      "Counts for occupation types of  subjects who were born in the U.S.:\n",
      "      7308\n",
      "2     5167\n",
      "1     4200\n",
      "8     4097\n",
      "5     2902\n",
      "4     2883\n",
      "3     2506\n",
      "11    2137\n",
      "10    1059\n",
      "13     886\n",
      "12     839\n",
      "9      525\n",
      "7      492\n",
      "6      325\n",
      "14     296\n",
      "Name: S1Q9B, dtype: int64\n",
      "Associated percentages for occupation categories of subjects who were born in the U.S.: \n",
      "      0.205154\n",
      "2     0.145051\n",
      "1     0.117905\n",
      "8     0.115013\n",
      "5     0.081467\n",
      "4     0.080933\n",
      "3     0.070350\n",
      "11    0.059991\n",
      "10    0.029729\n",
      "13    0.024872\n",
      "12    0.023553\n",
      "9     0.014738\n",
      "7     0.013812\n",
      "6     0.009124\n",
      "14    0.008309\n",
      "Name: S1Q9B, dtype: float64\n",
      "Codes for the occupation type:\n",
      "1 - Executive, Administrative, and Managerial\n",
      "2 - Professional Speciality\n",
      "3 - Technical and Related Support\n",
      "4 - Sales\n",
      "5 - Administrative Support, including Clerical\n",
      " 6 - Private Household\n",
      "7 - Protective Services\n",
      "8 - Other Services\n",
      " 9 - Farming, Forestry and Fishing\n",
      "10 - Precision Production, Craft and Repair\n",
      "11 - Operators, Fabricators and Laborers\n",
      "12 - Transportation and Material Moving\n",
      "13 - Handlers, Equipment Cleaners and Laborers\n",
      "14 - Military\n",
      "BL - NA, never worked for pay or in family business or farm\n"
     ]
    }
   ],
   "source": [
    "# The second variable - Occupation type represented by 'S1Q9B' \n",
    "# Counts of occupation types\n",
    "print('Counts for occupation types of  subjects who were born in the U.S.:')\n",
    "c3=myData['S1Q9B'].value_counts(sort = True, dropna = False)\n",
    "print(c3)\n",
    "# I set sort = TRUE as codes themselves have no meaning as numbers. And by sort = true, I can see which\n",
    "# occupation type occurs the most frequent, which the least  etc.\n",
    "print('Associated percentages for occupation categories of subjects who were born in the U.S.: ')\n",
    "#frequencies of the occupations\n",
    "p3=myData['S1Q9B'].value_counts(sort = True, dropna = False, normalize = True)\n",
    "print(p3)\n",
    "print ('Codes for the occupation type:')\n",
    "print ('1 - Executive, Administrative, and Managerial')\n",
    "print('2 - Professional Speciality')\n",
    "print('3 - Technical and Related Support')\n",
    "print('4 - Sales')\n",
    "print('5 - Administrative Support, including Clerical')\n",
    "print(' 6 - Private Household')\n",
    "print ('7 - Protective Services')\n",
    "print ('8 - Other Services')\n",
    "print(' 9 - Farming, Forestry and Fishing')\n",
    "print('10 - Precision Production, Craft and Repair')\n",
    "print('11 - Operators, Fabricators and Laborers')\n",
    "print('12 - Transportation and Material Moving')\n",
    "print('13 - Handlers, Equipment Cleaners and Laborers')\n",
    "print('14 - Military')\n",
    "print ('BL - NA, never worked for pay or in family business or farm')"
   ]
  },
  {
   "cell_type": "markdown",
   "metadata": {},
   "source": [
    " **Summary for the third frequency check - Occupation type of  U.S. born subjects ** : Here we see the most of subjects (7308 persons or 20,51% of U.S. born subjects) did not answer the occupation type question, data e missing, never worked for pay or in family business or farm. It is interesting to compare this number with the number of unemployed subject which was 10 321. The logic says that (unless the subjects answered inconsistently regarding questions about their employment status and occupation type ) at least 10 321 - 7308 = 3013 persons were not employed in the last 12 moths, but worked / are educated for specific occupation. \n",
    " \n",
    " The second largest occupation category is \"professional speciality\" (5167 persons or ca. 14,5%), followed by \" Executive, Administrative, and Managerial\" (11,8% or 4200 subjects) and then \"Other services\" (11.5% or 4097 people). The least popular occupation type among subjects, according to the data, is \"Military\" with only 296 subjects. The second smallest category is \"private household\" group with 325 persons.\n",
    " \n",
    " Let me now look at the last variable of the interest: the hospital stays, which is given by the variable 'S13Q1'. "
   ]
  },
  {
   "cell_type": "code",
   "execution_count": 11,
   "metadata": {
    "collapsed": false
   },
   "outputs": [
    {
     "name": "stdout",
     "output_type": "stream",
     "text": [
      "Counts of hospital stays overnight (last 12 months): 0-98 number of times, 99 - unknown\n",
      "0     30846\n",
      "1      2673\n",
      "99      873\n",
      "2       736\n",
      "3       249\n",
      "4        95\n",
      "5        62\n",
      "6        34\n",
      "7        11\n",
      "10       10\n",
      "12        7\n",
      "8         6\n",
      "30        3\n",
      "14        3\n",
      "9         3\n",
      "15        2\n",
      "18        2\n",
      "60        1\n",
      "11        1\n",
      "16        1\n",
      "35        1\n",
      "20        1\n",
      "24        1\n",
      "90        1\n",
      "Name: S13Q1, dtype: int64\n",
      "Associated percentages for hospital stays overnight (last 12 months): 0-98 number of times, 99 - unknown\n",
      "0     0.865926\n",
      "1     0.075038\n",
      "99    0.024507\n",
      "2     0.020661\n",
      "3     0.006990\n",
      "4     0.002667\n",
      "5     0.001740\n",
      "6     0.000954\n",
      "7     0.000309\n",
      "10    0.000281\n",
      "12    0.000197\n",
      "8     0.000168\n",
      "30    0.000084\n",
      "14    0.000084\n",
      "9     0.000084\n",
      "15    0.000056\n",
      "18    0.000056\n",
      "60    0.000028\n",
      "11    0.000028\n",
      "16    0.000028\n",
      "35    0.000028\n",
      "20    0.000028\n",
      "24    0.000028\n",
      "90    0.000028\n",
      "Name: S13Q1, dtype: float64\n"
     ]
    }
   ],
   "source": [
    "# The third variable -  Number of times stayed in hospital in last 12 months \n",
    "# (excluding delivery of healty liveborn infant)\n",
    "# Variable name: 'S13Q1', codes: 0-98 number of times, 99 - unknown\n",
    "# As the codes are numbers which indeed make sense, I shall firstly convert the variable to numeric type\n",
    "myData['S13Q1']=pandas.to_numeric(myData['S13Q1'])\n",
    "# Counts of overnight hospital stays\n",
    "print('Counts of hospital stays overnight (last 12 months): 0-98 number of times, 99 - unknown')\n",
    "c4=myData['S13Q1'].value_counts(sort = True, dropna = False)\n",
    "print(c4)\n",
    "# associated frequencies\n",
    "print('Associated percentages for hospital stays overnight (last 12 months): 0-98 number of times, 99 - unknown')\n",
    "p4=myData['S13Q1'].value_counts(sort = True, dropna = False, normalize = True)\n",
    "print(p4)"
   ]
  },
  {
   "cell_type": "markdown",
   "metadata": {},
   "source": [
    "** Summary for the fourth frequency check - Overnight hospital stays (in last 12 months) **:  The last univariate analysis says that the most of subjects did not stay overnight in the hospital within last 12 moths. More precisely,  30846 or almost 86.6% of all U.S. born citizens in the data set did not stay in the hospital, followed by pretty linearly with the next minimal number of times ( 1,2 ..and so on). Less then 1% of subjects has stayed exactly x times in the hospital, where x might be any number greater than 3. There are mostly unique cases ( or up to 7) who stayed more than 10 times in the hospital.\n",
    "\n",
    "Missing data: There were 873 subjects or almost 2.5% of all U.S. born subjects on which data is missing for this specific question."
   ]
  },
  {
   "cell_type": "markdown",
   "metadata": {},
   "source": [
    "# Summary\n",
    "\n",
    "By investigating only U.S. born subjects, I approximately exclude 17.3% of all data provided in NESARC and analyze data on 35622 subjects.\n",
    "71.9% of those 35622 subjects,  are /were employed within last 12 months. There is no information or data are missing on occupation type for circa 20% of all U.S. born persons from the data (irrespective of employment status). The most popular job seems to be categorized as \"professional speciality\" and the least popular category is \"military\". Regarding the overnight stay in hospital,the big majority of subjects (30846 or 86.6%) did not stay in hospital in the last 12 months. "
   ]
  }
 ],
 "metadata": {
  "kernelspec": {
   "display_name": "Python 3",
   "language": "python",
   "name": "python3"
  },
  "language_info": {
   "codemirror_mode": {
    "name": "ipython",
    "version": 3
   },
   "file_extension": ".py",
   "mimetype": "text/x-python",
   "name": "python",
   "nbconvert_exporter": "python",
   "pygments_lexer": "ipython3",
   "version": "3.5.1"
  }
 },
 "nbformat": 4,
 "nbformat_minor": 0
}
